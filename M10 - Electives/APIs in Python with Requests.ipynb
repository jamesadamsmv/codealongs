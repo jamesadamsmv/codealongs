{
 "cells": [
  {
   "cell_type": "markdown",
   "metadata": {},
   "source": [
    "Python APIs with Requests 🐍🍬"
   ]
  },
  {
   "cell_type": "markdown",
   "metadata": {},
   "source": [
    "<hr style=\"width:100%;height:10px;border-width:0;color:gray;background-color:DarkBlue\">\n",
    "<hr style=\"width:100%;height:10px;border-width:0;color:gray;background-color:MediumSeaGreen\">"
   ]
  },
  {
   "cell_type": "code",
   "execution_count": 1,
   "metadata": {},
   "outputs": [],
   "source": [
    "import pandas as pd\n",
    "import requests\n",
    "from datetime import date\n",
    "from io import BytesIO"
   ]
  },
  {
   "attachments": {},
   "cell_type": "markdown",
   "metadata": {},
   "source": [
    "## REST APIs\n",
    "\n",
    "One of the most common ways to make requests to a service on the web is using an API (*application programming interface*) setup with the [REST](https://realpython.com/api-integration-in-python/#rest-architecture) (*representational state transfer*) protocol. These provide URLs you can visit to perform certain actions and interact with the API, known as *endpoints*.\n",
    "\n",
    "The two most common actions you can perform with REST APIs are **GET** to retrieve things, and **POST** to interact with things.\n",
    "\n",
    "Let's look at GET first, and use a public API to play with it. We'll be using the Dog API, from [https://dog.ceo/dog-api/documentation/](https://dog.ceo/dog-api/documentation/)"
   ]
  },
  {
   "cell_type": "code",
   "execution_count": 8,
   "metadata": {},
   "outputs": [],
   "source": [
    "# Send request with requests.get(), providing just a URL that the API should\n",
    "# go to - this URL will just return a link to a random image of a dog!\n",
    "# We save the response from our request into a response object\n",
    "\n",
    "response = requests.get('https://dog.ceo/api/breeds/image/random')"
   ]
  },
  {
   "cell_type": "markdown",
   "metadata": {},
   "source": [
    "Once we have our response saved, we can look at a number of things it contains. Often the most useful things to check first is just if our request worked or not. We can check this with `.status_code`, which contains the [HTTP response status code](https://developer.mozilla.org/en-US/docs/Web/HTTP/Status) for our request. There are lot of these that can contain useful clues about how your request has gone, but the main one to remember is `200`, which means it worked okay."
   ]
  },
  {
   "cell_type": "code",
   "execution_count": 9,
   "metadata": {},
   "outputs": [
    {
     "name": "stdout",
     "output_type": "stream",
     "text": [
      "200\n"
     ]
    }
   ],
   "source": [
    "# look at response code\n",
    "print(response.status_code)"
   ]
  },
  {
   "cell_type": "markdown",
   "metadata": {},
   "source": [
    "It can be useful to use this status code for control flow based on whether your query worked or not:"
   ]
  },
  {
   "cell_type": "code",
   "execution_count": 10,
   "metadata": {},
   "outputs": [
    {
     "name": "stdout",
     "output_type": "stream",
     "text": [
      "Success!\n"
     ]
    }
   ],
   "source": [
    "if response.status_code == 200:\n",
    "    print(\"Success!\")\n",
    "else:\n",
    "    print(\"Oh no!\")"
   ]
  },
  {
   "cell_type": "markdown",
   "metadata": {},
   "source": [
    "The main content our request returns to us is held in `.content`. By default, just calling this returns the content as a byte string, denoted by the `b` at the start of the string returned. This is pure raw data!"
   ]
  },
  {
   "cell_type": "code",
   "execution_count": 11,
   "metadata": {},
   "outputs": [
    {
     "data": {
      "text/plain": [
       "b'{\"message\":\"https:\\\\/\\\\/images.dog.ceo\\\\/breeds\\\\/bouvier\\\\/n02106382_3692.jpg\",\"status\":\"success\"}'"
      ]
     },
     "execution_count": 11,
     "metadata": {},
     "output_type": "execute_result"
    }
   ],
   "source": [
    "response.content"
   ]
  },
  {
   "cell_type": "markdown",
   "metadata": {},
   "source": [
    "This isn't always terribly useful though, so Requests also gives us some shortcuts to interpret this content as plain text, or some common data formats such as json:"
   ]
  },
  {
   "cell_type": "code",
   "execution_count": 12,
   "metadata": {},
   "outputs": [
    {
     "data": {
      "text/plain": [
       "'{\"message\":\"https:\\\\/\\\\/images.dog.ceo\\\\/breeds\\\\/bouvier\\\\/n02106382_3692.jpg\",\"status\":\"success\"}'"
      ]
     },
     "execution_count": 12,
     "metadata": {},
     "output_type": "execute_result"
    }
   ],
   "source": [
    "# look at content of response with .text for plain text\n",
    "\n",
    "response.text"
   ]
  },
  {
   "cell_type": "code",
   "execution_count": 14,
   "metadata": {},
   "outputs": [
    {
     "data": {
      "text/plain": [
       "{'message': 'https://images.dog.ceo/breeds/bouvier/n02106382_3692.jpg',\n",
       " 'status': 'success'}"
      ]
     },
     "execution_count": 14,
     "metadata": {},
     "output_type": "execute_result"
    }
   ],
   "source": [
    "# look at content of response, parsed as JSON\n",
    "\n",
    "response.json()"
   ]
  },
  {
   "cell_type": "markdown",
   "metadata": {},
   "source": [
    "JSON is a very common method for transmitting data with APIs, and is very useful as it works with key:value pairs exactly the same as a regular Python dictionary. It's so common in fact, that Requests has a function built in to read content and parse it nicely as JSON for us! So we can use `.json()` to read our content, and can then save it as a dictionary and access elements within it using standard Python syntax."
   ]
  },
  {
   "cell_type": "code",
   "execution_count": 25,
   "metadata": {},
   "outputs": [
    {
     "name": "stdout",
     "output_type": "stream",
     "text": [
      "{'message': 'https://images.dog.ceo/breeds/bouvier/n02106382_3692.jpg', 'status': 'success'}\n"
     ]
    }
   ],
   "source": [
    "# save the json to a dictionary\n",
    "\n",
    "response_dict = response.json()\n",
    "print(response_dict)"
   ]
  },
  {
   "cell_type": "code",
   "execution_count": 26,
   "metadata": {},
   "outputs": [
    {
     "data": {
      "text/plain": [
       "'https://images.dog.ceo/breeds/bouvier/n02106382_3692.jpg'"
      ]
     },
     "execution_count": 26,
     "metadata": {},
     "output_type": "execute_result"
    }
   ],
   "source": [
    "# access each part of our JSON response with square bracket syntax\n",
    "\n",
    "response_dict['message']"
   ]
  },
  {
   "cell_type": "code",
   "execution_count": 18,
   "metadata": {},
   "outputs": [
    {
     "data": {
      "text/html": [
       "<img src=\"https://images.dog.ceo/breeds/bouvier/n02106382_3692.jpg\"/>"
      ],
      "text/plain": [
       "<IPython.core.display.Image object>"
      ]
     },
     "execution_count": 18,
     "metadata": {},
     "output_type": "execute_result"
    }
   ],
   "source": [
    "# ... which in this case, lets us use our returned image URL to show us a dog!\n",
    "\n",
    "from IPython.display import Image\n",
    "\n",
    "Image(url = response_dict['message'])"
   ]
  },
  {
   "cell_type": "markdown",
   "metadata": {},
   "source": [
    "### Headers\n",
    "\n",
    "As well as the content of our response, it also contains some metadata referred to as 'headers'. There are lots of possible headers that you can send and receive with REST APIs, and they can be seen using `.headers`:"
   ]
  },
  {
   "cell_type": "code",
   "execution_count": 21,
   "metadata": {},
   "outputs": [
    {
     "data": {
      "text/plain": [
       "{'Date': 'Mon, 10 Jul 2023 14:11:54 GMT', 'Content-Type': 'application/json', 'Content-Length': '106', 'Connection': 'keep-alive', 'X-Powered-By': 'PHP/8.1.0', 'Cache-Control': 'no-cache, private', 'Access-Control-Allow-Origin': '*', 'Content-Encoding': 'gzip', 'Via': '1.1 varnish (Varnish/6.3), 1.1 varnish (Varnish/6.3)', 'X-Cache-Hits': '0', 'X-Cache': 'MISS', 'Accept-Ranges': 'bytes', 'Age': '0', 'Vary': 'Accept-Encoding', 'CF-Cache-Status': 'DYNAMIC', 'Report-To': '{\"endpoints\":[{\"url\":\"https:\\\\/\\\\/a.nel.cloudflare.com\\\\/report\\\\/v3?s=26oV9317bENxHQqHdaKVICyUsVL1MIGtE5%2B3eOx0lSWcsvwgTCE75B1RXjFddYs%2BiqfQmHGItt7sO2b44nOxVUvJH6HZODK4Eshwy2Tki7SsaGIqJ56m7XMN\"}],\"group\":\"cf-nel\",\"max_age\":604800}', 'NEL': '{\"success_fraction\":0,\"report_to\":\"cf-nel\",\"max_age\":604800}', 'Server': 'cloudflare', 'CF-RAY': '7e49660a4d61749d-LHR', 'alt-svc': 'h3=\":443\"; ma=86400'}"
      ]
     },
     "execution_count": 21,
     "metadata": {},
     "output_type": "execute_result"
    }
   ],
   "source": [
    "response.headers"
   ]
  },
  {
   "cell_type": "code",
   "execution_count": 22,
   "metadata": {},
   "outputs": [
    {
     "data": {
      "text/plain": [
       "'Mon, 10 Jul 2023 14:11:54 GMT'"
      ]
     },
     "execution_count": 22,
     "metadata": {},
     "output_type": "execute_result"
    }
   ],
   "source": [
    "# notice these headers are stored in a dictionary in our response object, so we can access certain parts of those as well:\n",
    "\n",
    "response.headers['Date']"
   ]
  },
  {
   "cell_type": "markdown",
   "metadata": {},
   "source": [
    "One of the main headers to be aware of is Content-Type, which tells us what type of data we are receiving from our API, often referred to as MIME type. There are lots of these, and you can see some common ones [here](https://developer.mozilla.org/en-US/docs/Web/HTTP/Basics_of_HTTP/MIME_types/Common_types). \n",
    "\n",
    "For this response, you can see Content-Type is telling us this is JSON data!"
   ]
  },
  {
   "cell_type": "code",
   "execution_count": 23,
   "metadata": {},
   "outputs": [
    {
     "data": {
      "text/plain": [
       "'application/json'"
      ]
     },
     "execution_count": 23,
     "metadata": {},
     "output_type": "execute_result"
    }
   ],
   "source": [
    "response.headers['Content-Type']"
   ]
  },
  {
   "cell_type": "markdown",
   "metadata": {},
   "source": [
    "You can tell the API what type of data you want back using the `headers` argument, and sending an `Accept` header with a MIME type. Let's explicitly tell the server what data type we want back - often, if the server does not support a data type, you'll then get an error. This can be useful when APIs offer data in multiple formats, for example XML or JSON, and you want to pick one."
   ]
  },
  {
   "cell_type": "code",
   "execution_count": null,
   "metadata": {},
   "outputs": [],
   "source": [
    "requests.get('https://dog.ceo/api/breeds/image/random', headers = {'Accept': 'application/json'})"
   ]
  },
  {
   "cell_type": "markdown",
   "metadata": {},
   "source": [
    "Let's play some more with the Dog API!"
   ]
  },
  {
   "cell_type": "code",
   "execution_count": null,
   "metadata": {},
   "outputs": [],
   "source": [
    "# by sending a request to a different URL / endpoint, we can get different data back\n",
    "# let's get a list of all the breeds available through Dog API\n",
    "\n",
    "endpoint = 'https://dog.ceo/api/breeds/list/all'\n",
    "\n",
    "breeds = requests.get(endpoint)\n",
    "\n",
    "breeds = breeds.json()['message']"
   ]
  },
  {
   "cell_type": "code",
   "execution_count": 76,
   "metadata": {},
   "outputs": [
    {
     "name": "stdout",
     "output_type": "stream",
     "text": [
      "appenzeller:\n"
     ]
    },
    {
     "data": {
      "text/html": [
       "<img src=\"https://images.dog.ceo/breeds/appenzeller/n02107908_7259.jpg\"/>"
      ],
      "text/plain": [
       "<IPython.core.display.Image object>"
      ]
     },
     "metadata": {},
     "output_type": "display_data"
    }
   ],
   "source": [
    "# we can loop through this now with a new endpoint we construct each time, to return a random image from each breed\n",
    "# lets limit ourselves to just a random breed from the list to save time!\n",
    "\n",
    "import random\n",
    "\n",
    "# change k to another number to see more dogs at once!\n",
    "random_breeds = random.choices(list(breeds.keys()), k = 1)\n",
    "\n",
    "for breed in random_breeds:\n",
    "    endpoint = f'https://dog.ceo/api/breed/{breed}/images/random'\n",
    "\n",
    "    response = requests.get(endpoint)\n",
    "    json = response.json()\n",
    "    image_url = json['message']\n",
    "\n",
    "    print(breed + ':')\n",
    "    display(Image(url = image_url))"
   ]
  },
  {
   "attachments": {},
   "cell_type": "markdown",
   "metadata": {},
   "source": [
    "### Queries\n",
    "\n",
    "We can also interact with our APIs using queries that we add on to the end of our URL endpoints, usually be adding a ? and then our query. To see how this works, we can use `params` with our **GET** request to query the Agify API that guesses a person's age based solely on their name: [https://agify.io/](https://agify.io/)"
   ]
  },
  {
   "cell_type": "code",
   "execution_count": 13,
   "metadata": {},
   "outputs": [],
   "source": [
    "# setup our endpoint URL as before\n",
    "\n",
    "endpoint = 'https://api.agify.io'\n",
    "\n",
    "# we can then make a request to this endpoint and use the 'params' argument to submit a name\n",
    "\n",
    "response = requests.get(endpoint, params = {'name': 'James'})"
   ]
  },
  {
   "cell_type": "code",
   "execution_count": null,
   "metadata": {},
   "outputs": [],
   "source": [
    "# PRACTISE: How can you view whether this request was successful or not?"
   ]
  },
  {
   "cell_type": "code",
   "execution_count": null,
   "metadata": {},
   "outputs": [],
   "source": [
    "# PRACTISE: Look at the response to find the predicted age for this request"
   ]
  },
  {
   "cell_type": "code",
   "execution_count": 14,
   "metadata": {},
   "outputs": [],
   "source": [
    "# we can provide multiple queries at once if the API supports it\n",
    "\n",
    "queries = {'name': 'James Adams', 'country_id': 'GB'}\n",
    "\n",
    "response = requests.get(endpoint, params = queries)"
   ]
  },
  {
   "cell_type": "code",
   "execution_count": null,
   "metadata": {},
   "outputs": [],
   "source": [
    "# PRACTISE: Try look at the Agify API page to see what other queries you could add, and what difference they make to your results"
   ]
  },
  {
   "cell_type": "code",
   "execution_count": 15,
   "metadata": {},
   "outputs": [
    {
     "name": "stdout",
     "output_type": "stream",
     "text": [
      "https://api.agify.io/?name=James+Adams&country_id=GB\n"
     ]
    }
   ],
   "source": [
    "# as part of our response object, we can see the entire URL query that was sent to our endpoint with .request.url\n",
    "\n",
    "print(response.request.url)\n",
    "\n",
    "# notice how our queries have been added on to our endpoint URL after a '?', and separated by '&'. We could have coded these by hand into our endpoint,\n",
    "# but requests makes it easier and handles the URL encoding for us - otherwise we'd have to manually replace things like spaces with %20%!"
   ]
  },
  {
   "attachments": {},
   "cell_type": "markdown",
   "metadata": {},
   "source": [
    "### POST\n",
    "\n",
    "Unlike **GET**, we usually interact with **POST** by actually sending content in the *body* of our request, rather than by adding things on to the end of our URL. This can be done using the `data` argument to `requests.post()`, which can take data in a variety of formats but most often a Python dictionary."
   ]
  },
  {
   "cell_type": "code",
   "execution_count": 7,
   "metadata": {},
   "outputs": [
    {
     "data": {
      "text/plain": [
       "<Response [200]>"
      ]
     },
     "execution_count": 7,
     "metadata": {},
     "output_type": "execute_result"
    }
   ],
   "source": [
    "# httpbin is a useful service that just echoes back any REST query you send to it, allowing you to test your queries\n",
    "\n",
    "requests.post('https://httpbin.org/post', data = {'key': 'value'})"
   ]
  },
  {
   "attachments": {},
   "cell_type": "markdown",
   "metadata": {},
   "source": [
    "Commonly, the data we send is in JSON format, so that the server on the other end can read and interpret the request body easily. This is so common that, once again, Requests has it built in using the `json` argument in place of `data`. This can still accept a dictionary, but converts it into a JSON file to send to the URL endpoint for the server to use."
   ]
  },
  {
   "cell_type": "code",
   "execution_count": 8,
   "metadata": {},
   "outputs": [
    {
     "data": {
      "text/plain": [
       "'{\"key\": \"value\"}'"
      ]
     },
     "execution_count": 8,
     "metadata": {},
     "output_type": "execute_result"
    }
   ],
   "source": [
    "response = requests.post('https://httpbin.org/post', json = {'key': 'value'})\n",
    "\n",
    "json_response = response.json()\n",
    "\n",
    "json_response['data']"
   ]
  },
  {
   "cell_type": "markdown",
   "metadata": {},
   "source": [
    "You can send other types of data with Requests, such as files if you wanted to upload something to a server. Files need to be read into Python as raw binary data but then can be sent with the `files` argument. If we use the httpbin service to see how an uploaded file is represented, we can see that the file is converted into a very long string of text that encodes the actual file info."
   ]
  },
  {
   "cell_type": "code",
   "execution_count": null,
   "metadata": {},
   "outputs": [],
   "source": [
    "endpoint = 'https://httpbin.org/post'\n",
    "\n",
    "files = {'file': open('mv-logo.png', 'rb')}\n",
    "\n",
    "response = requests.post(endpoint, files = files)\n",
    "response.text"
   ]
  },
  {
   "cell_type": "markdown",
   "metadata": {},
   "source": [
    "We can also practise uploading things with **POST** using the [Pastebin API](https://pastebin.com/doc_api), to upload some text for us to share on the web. Before we do that though, we need to talk about authentication and APIs."
   ]
  },
  {
   "attachments": {},
   "cell_type": "markdown",
   "metadata": {},
   "source": [
    "#### Authentication\n",
    "\n",
    "Authentication can be a complicated topic in APIs. There are numerous ways you can authenticate yourself with a service that requires you to be logged in, from simply sending your username and password in a header (not recommended!) to setting up authorisation with services like OAuth (like Google). These vary from API service to service, and you will need to determine how the API wants you to provide your credentials. See [https://realpython.com/python-requests/#authentication](https://realpython.com/python-requests/#authentication) for some more info on some of these options.\n",
    "\n",
    "One common method is to create API keys, or personal access tokens, to identify you as a user. These can be managed and, if need be, revoked without affecting your main login credentials, creating a more secure way to manage authorising yourself to an API."
   ]
  },
  {
   "cell_type": "markdown",
   "metadata": {},
   "source": [
    "### Getting a Pastebin API key"
   ]
  },
  {
   "cell_type": "markdown",
   "metadata": {},
   "source": [
    "To sign up with Pastebin, head to: [https://pastebin.com/signup](https://pastebin.com/signup). Register for an account using any method you prefer.\n",
    "\n",
    "Once logged in, head back to the API pages at [https://pastebin.com/doc_api](https://pastebin.com/doc_api) and you should see your API key near the top under the heading 'Your Unique Developer API Key'. Copy and paste this into the variable below!"
   ]
  },
  {
   "cell_type": "code",
   "execution_count": 2,
   "metadata": {},
   "outputs": [],
   "source": [
    "PASTEBIN_API = 'Your API key here'"
   ]
  },
  {
   "cell_type": "markdown",
   "metadata": {},
   "source": [
    "### Posting to Pastebin"
   ]
  },
  {
   "cell_type": "markdown",
   "metadata": {},
   "source": [
    "Now we can construct a **POST** request to Pastebin to upload some text, and use our API key in a data field named `api_dev_key` to authenticate ourselves. Sometimes you will send your API key in `headers` instead, but for Pastebin, we just include it as part of the body of our request. Always read the API documentation to see how they want you to structure your requests!"
   ]
  },
  {
   "cell_type": "code",
   "execution_count": 3,
   "metadata": {},
   "outputs": [],
   "source": [
    "endpoint = 'https://pastebin.com/api/api_post.php'\n",
    "\n",
    "data = {'api_dev_key': PASTEBIN_API,\n",
    "        'api_option': 'paste', # indicates we want to create a new pastebin entry\n",
    "        'api_paste_code': 'Hello! This is using the pastebin API to upload this text.'} # the actual text we want to upload\n",
    "\n",
    "response = requests.post(endpoint, data = data)"
   ]
  },
  {
   "cell_type": "code",
   "execution_count": 4,
   "metadata": {},
   "outputs": [
    {
     "data": {
      "text/plain": [
       "200"
      ]
     },
     "execution_count": 4,
     "metadata": {},
     "output_type": "execute_result"
    }
   ],
   "source": [
    "response.status_code"
   ]
  },
  {
   "cell_type": "markdown",
   "metadata": {},
   "source": [
    "The response content is simply a link to our uploaded new text on Pastebin!"
   ]
  },
  {
   "cell_type": "code",
   "execution_count": 6,
   "metadata": {},
   "outputs": [
    {
     "data": {
      "text/plain": [
       "'https://pastebin.com/csLWE47j'"
      ]
     },
     "execution_count": 6,
     "metadata": {},
     "output_type": "execute_result"
    }
   ],
   "source": [
    "response.text"
   ]
  },
  {
   "cell_type": "markdown",
   "metadata": {},
   "source": [
    "### API packages in Python\n",
    "\n",
    "A lot of APIs, if they are popular enough, will already have a Python package available that will help you interact with them. Under the hood they are really just doing exactly the same thing we've been doing with Requests, but usually bundled up nicely to make it easier to work with an API. For example,  the [Dog API](https://pypi.org/project/pydogceo/) and [Agify](https://pypi.org/project/agify/) services we used earlier both have Python packages!\n",
    "\n",
    "It's worth looking for a package that interacts with the API you are interested in using, as they often take a lot of the headaches out of things like authentication, and retrieving data in a useable format. But it's still useful to be able to use Requests, to understand what these packages are doing under the hood, and to make custom API requests for yourself if you need more than a package provides."
   ]
  }
 ],
 "metadata": {
  "kernelspec": {
   "display_name": "Python 3",
   "language": "python",
   "name": "python3"
  },
  "language_info": {
   "codemirror_mode": {
    "name": "ipython",
    "version": 3
   },
   "file_extension": ".py",
   "mimetype": "text/x-python",
   "name": "python",
   "nbconvert_exporter": "python",
   "pygments_lexer": "ipython3",
   "version": "3.11.0"
  },
  "orig_nbformat": 4
 },
 "nbformat": 4,
 "nbformat_minor": 2
}
