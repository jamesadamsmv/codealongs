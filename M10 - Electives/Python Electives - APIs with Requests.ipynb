{
 "cells": [
  {
   "cell_type": "markdown",
   "metadata": {},
   "source": [
    "# Week 2: Python APIs with Requests 🐍🍬"
   ]
  },
  {
   "cell_type": "markdown",
   "metadata": {},
   "source": [
    "<hr style=\"width:100%;height:10px;border-width:0;color:gray;background-color:DarkBlue\">\n",
    "<hr style=\"width:100%;height:10px;border-width:0;color:gray;background-color:MediumSeaGreen\">"
   ]
  },
  {
   "cell_type": "code",
   "execution_count": 1,
   "metadata": {},
   "outputs": [],
   "source": [
    "import pandas as pd\n",
    "import requests\n",
    "from datetime import date\n",
    "from io import BytesIO"
   ]
  },
  {
   "attachments": {},
   "cell_type": "markdown",
   "metadata": {},
   "source": [
    "## REST APIs\n",
    "\n",
    "One of the most common ways to make requests to a service on the web is using an API (*application programming interface*) setup with the [REST](https://realpython.com/api-integration-in-python/#rest-architecture) (*representational state transfer*) protocol. These provide URLs you can visit to perform certain actions and interact with the API, known as *endpoints*.\n",
    "\n",
    "The two most common actions you can perform with REST APIs are **GET** to retrieve things, and **POST** to interact with things.\n",
    "\n",
    "Let's look at GET first, and use a public API to play with it. We'll be using the Dog API, from [https://dog.ceo/dog-api/documentation/](https://dog.ceo/dog-api/documentation/)"
   ]
  },
  {
   "cell_type": "code",
   "execution_count": 8,
   "metadata": {},
   "outputs": [],
   "source": [
    "# Send request with requests.get(), providing just a URL that the API should\n",
    "# go to - this URL will just return a link to a random image of a dog!\n",
    "# We save the response from our request into a response object\n",
    "\n",
    "response = requests.get('https://dog.ceo/api/breeds/image/random')"
   ]
  },
  {
   "cell_type": "markdown",
   "metadata": {},
   "source": [
    "Once we have our response saved, we can look at a number of things it contains. Often the most useful things to check first is just if our request worked or not. We can check this with `.status_code`, which contains the [HTTP response status code](https://developer.mozilla.org/en-US/docs/Web/HTTP/Status) for our request. There are lot of these that can contain useful clues about how your request has gone, but the main one to remember is `200`, which means it worked okay."
   ]
  },
  {
   "cell_type": "code",
   "execution_count": 9,
   "metadata": {},
   "outputs": [
    {
     "name": "stdout",
     "output_type": "stream",
     "text": [
      "200\n"
     ]
    }
   ],
   "source": [
    "# look at response code\n",
    "print(response.status_code)"
   ]
  },
  {
   "cell_type": "markdown",
   "metadata": {},
   "source": [
    "It can be useful to use this status code for control flow based on whether your query worked or not:"
   ]
  },
  {
   "cell_type": "code",
   "execution_count": 10,
   "metadata": {},
   "outputs": [
    {
     "name": "stdout",
     "output_type": "stream",
     "text": [
      "Success!\n"
     ]
    }
   ],
   "source": [
    "if response.status_code == 200:\n",
    "    print(\"Success!\")\n",
    "else:\n",
    "    print(\"Oh no!\")"
   ]
  },
  {
   "cell_type": "markdown",
   "metadata": {},
   "source": [
    "The main content our request returns to us is held in `.content`. By default, just calling this returns the content as a byte string, denoted by the `b` at the start of the string returned. This is pure raw data!"
   ]
  },
  {
   "cell_type": "code",
   "execution_count": 11,
   "metadata": {},
   "outputs": [
    {
     "data": {
      "text/plain": [
       "b'{\"message\":\"https:\\\\/\\\\/images.dog.ceo\\\\/breeds\\\\/bouvier\\\\/n02106382_3692.jpg\",\"status\":\"success\"}'"
      ]
     },
     "execution_count": 11,
     "metadata": {},
     "output_type": "execute_result"
    }
   ],
   "source": [
    "response.content"
   ]
  },
  {
   "cell_type": "markdown",
   "metadata": {},
   "source": [
    "This isn't always terribly useful though, so Requests also gives us some shortcuts to interpret this content as plain text, or some common data formats such as json:"
   ]
  },
  {
   "cell_type": "code",
   "execution_count": 12,
   "metadata": {},
   "outputs": [
    {
     "data": {
      "text/plain": [
       "'{\"message\":\"https:\\\\/\\\\/images.dog.ceo\\\\/breeds\\\\/bouvier\\\\/n02106382_3692.jpg\",\"status\":\"success\"}'"
      ]
     },
     "execution_count": 12,
     "metadata": {},
     "output_type": "execute_result"
    }
   ],
   "source": [
    "# look at content of response with .text for plain text\n",
    "\n",
    "response.text"
   ]
  },
  {
   "cell_type": "code",
   "execution_count": 14,
   "metadata": {},
   "outputs": [
    {
     "data": {
      "text/plain": [
       "{'message': 'https://images.dog.ceo/breeds/bouvier/n02106382_3692.jpg',\n",
       " 'status': 'success'}"
      ]
     },
     "execution_count": 14,
     "metadata": {},
     "output_type": "execute_result"
    }
   ],
   "source": [
    "# look at content of response, parsed as JSON\n",
    "\n",
    "response.json()"
   ]
  },
  {
   "cell_type": "markdown",
   "metadata": {},
   "source": [
    "JSON is a very common method for transmitting data with APIs, and is very useful as it works with key:value pairs exactly the same as a regular Python dictionary. It's so common in fact, that Requests has a function built in to read content and parse it nicely as JSON for us! So we can use `.json()` to read our content, and can then save it as a dictionary and access elements within it using standard Python syntax."
   ]
  },
  {
   "cell_type": "code",
   "execution_count": 25,
   "metadata": {},
   "outputs": [
    {
     "name": "stdout",
     "output_type": "stream",
     "text": [
      "{'message': 'https://images.dog.ceo/breeds/bouvier/n02106382_3692.jpg', 'status': 'success'}\n"
     ]
    }
   ],
   "source": [
    "# save the json to a dictionary\n",
    "\n",
    "response_dict = response.json()\n",
    "print(response_dict)"
   ]
  },
  {
   "cell_type": "code",
   "execution_count": 26,
   "metadata": {},
   "outputs": [
    {
     "data": {
      "text/plain": [
       "'https://images.dog.ceo/breeds/bouvier/n02106382_3692.jpg'"
      ]
     },
     "execution_count": 26,
     "metadata": {},
     "output_type": "execute_result"
    }
   ],
   "source": [
    "# access each part of our JSON response with square bracket syntax\n",
    "\n",
    "response_dict['message']"
   ]
  },
  {
   "cell_type": "code",
   "execution_count": 18,
   "metadata": {},
   "outputs": [
    {
     "data": {
      "text/html": [
       "<img src=\"https://images.dog.ceo/breeds/bouvier/n02106382_3692.jpg\"/>"
      ],
      "text/plain": [
       "<IPython.core.display.Image object>"
      ]
     },
     "execution_count": 18,
     "metadata": {},
     "output_type": "execute_result"
    }
   ],
   "source": [
    "# ... which in this case, lets us use our returned image URL to show us a dog!\n",
    "\n",
    "from IPython.display import Image\n",
    "\n",
    "Image(url = response_dict['message'])"
   ]
  },
  {
   "cell_type": "markdown",
   "metadata": {},
   "source": [
    "### Headers\n",
    "\n",
    "As well as the content of our response, it also contains some metadata referred to as 'headers'. There are lots of possible headers that you can send and receive with REST APIs, and they can be seen using `.headers`:"
   ]
  },
  {
   "cell_type": "code",
   "execution_count": 21,
   "metadata": {},
   "outputs": [
    {
     "data": {
      "text/plain": [
       "{'Date': 'Mon, 10 Jul 2023 14:11:54 GMT', 'Content-Type': 'application/json', 'Content-Length': '106', 'Connection': 'keep-alive', 'X-Powered-By': 'PHP/8.1.0', 'Cache-Control': 'no-cache, private', 'Access-Control-Allow-Origin': '*', 'Content-Encoding': 'gzip', 'Via': '1.1 varnish (Varnish/6.3), 1.1 varnish (Varnish/6.3)', 'X-Cache-Hits': '0', 'X-Cache': 'MISS', 'Accept-Ranges': 'bytes', 'Age': '0', 'Vary': 'Accept-Encoding', 'CF-Cache-Status': 'DYNAMIC', 'Report-To': '{\"endpoints\":[{\"url\":\"https:\\\\/\\\\/a.nel.cloudflare.com\\\\/report\\\\/v3?s=26oV9317bENxHQqHdaKVICyUsVL1MIGtE5%2B3eOx0lSWcsvwgTCE75B1RXjFddYs%2BiqfQmHGItt7sO2b44nOxVUvJH6HZODK4Eshwy2Tki7SsaGIqJ56m7XMN\"}],\"group\":\"cf-nel\",\"max_age\":604800}', 'NEL': '{\"success_fraction\":0,\"report_to\":\"cf-nel\",\"max_age\":604800}', 'Server': 'cloudflare', 'CF-RAY': '7e49660a4d61749d-LHR', 'alt-svc': 'h3=\":443\"; ma=86400'}"
      ]
     },
     "execution_count": 21,
     "metadata": {},
     "output_type": "execute_result"
    }
   ],
   "source": [
    "response.headers"
   ]
  },
  {
   "cell_type": "code",
   "execution_count": 22,
   "metadata": {},
   "outputs": [
    {
     "data": {
      "text/plain": [
       "'Mon, 10 Jul 2023 14:11:54 GMT'"
      ]
     },
     "execution_count": 22,
     "metadata": {},
     "output_type": "execute_result"
    }
   ],
   "source": [
    "# notice these headers are stored in a dictionary in our response object, so we can access certain parts of those as well:\n",
    "\n",
    "response.headers['Date']"
   ]
  },
  {
   "cell_type": "markdown",
   "metadata": {},
   "source": [
    "One of the main headers to be aware of is Content-Type, which tells us what type of data we are receiving from our API, often referred to as MIME type. There are lots of these, and you can see some common ones [here](https://developer.mozilla.org/en-US/docs/Web/HTTP/Basics_of_HTTP/MIME_types/Common_types). \n",
    "\n",
    "For this response, you can see Content-Type is telling us this is JSON data!"
   ]
  },
  {
   "cell_type": "code",
   "execution_count": 23,
   "metadata": {},
   "outputs": [
    {
     "data": {
      "text/plain": [
       "'application/json'"
      ]
     },
     "execution_count": 23,
     "metadata": {},
     "output_type": "execute_result"
    }
   ],
   "source": [
    "response.headers['Content-Type']"
   ]
  },
  {
   "cell_type": "markdown",
   "metadata": {},
   "source": [
    "You can tell the API what type of data you want back using the `headers` argument, and sending an `Accept` header with a MIME type. Let's explicitly tell the server what data type we want back - often, if the server does not support a data type, you'll then get an error. This can be useful when APIs offer data in multiple formats, for example XML or JSON, and you want to pick one."
   ]
  },
  {
   "cell_type": "code",
   "execution_count": null,
   "metadata": {},
   "outputs": [],
   "source": [
    "requests.get('https://dog.ceo/api/breeds/image/random', headers = {'Accept': 'application/json'})"
   ]
  },
  {
   "cell_type": "markdown",
   "metadata": {},
   "source": [
    "Let's play some more with the Dog API!"
   ]
  },
  {
   "cell_type": "code",
   "execution_count": 30,
   "metadata": {},
   "outputs": [
    {
     "data": {
      "text/plain": [
       "{'affenpinscher': [],\n",
       " 'african': [],\n",
       " 'airedale': [],\n",
       " 'akita': [],\n",
       " 'appenzeller': [],\n",
       " 'australian': ['shepherd'],\n",
       " 'basenji': [],\n",
       " 'beagle': [],\n",
       " 'bluetick': [],\n",
       " 'borzoi': [],\n",
       " 'bouvier': [],\n",
       " 'boxer': [],\n",
       " 'brabancon': [],\n",
       " 'briard': [],\n",
       " 'buhund': ['norwegian'],\n",
       " 'bulldog': ['boston', 'english', 'french'],\n",
       " 'bullterrier': ['staffordshire'],\n",
       " 'cattledog': ['australian'],\n",
       " 'chihuahua': [],\n",
       " 'chow': [],\n",
       " 'clumber': [],\n",
       " 'cockapoo': [],\n",
       " 'collie': ['border'],\n",
       " 'coonhound': [],\n",
       " 'corgi': ['cardigan'],\n",
       " 'cotondetulear': [],\n",
       " 'dachshund': [],\n",
       " 'dalmatian': [],\n",
       " 'dane': ['great'],\n",
       " 'deerhound': ['scottish'],\n",
       " 'dhole': [],\n",
       " 'dingo': [],\n",
       " 'doberman': [],\n",
       " 'elkhound': ['norwegian'],\n",
       " 'entlebucher': [],\n",
       " 'eskimo': [],\n",
       " 'finnish': ['lapphund'],\n",
       " 'frise': ['bichon'],\n",
       " 'germanshepherd': [],\n",
       " 'greyhound': ['italian'],\n",
       " 'groenendael': [],\n",
       " 'havanese': [],\n",
       " 'hound': ['afghan',\n",
       "  'basset',\n",
       "  'blood',\n",
       "  'english',\n",
       "  'ibizan',\n",
       "  'plott',\n",
       "  'walker'],\n",
       " 'husky': [],\n",
       " 'keeshond': [],\n",
       " 'kelpie': [],\n",
       " 'komondor': [],\n",
       " 'kuvasz': [],\n",
       " 'labradoodle': [],\n",
       " 'labrador': [],\n",
       " 'leonberg': [],\n",
       " 'lhasa': [],\n",
       " 'malamute': [],\n",
       " 'malinois': [],\n",
       " 'maltese': [],\n",
       " 'mastiff': ['bull', 'english', 'tibetan'],\n",
       " 'mexicanhairless': [],\n",
       " 'mix': [],\n",
       " 'mountain': ['bernese', 'swiss'],\n",
       " 'newfoundland': [],\n",
       " 'otterhound': [],\n",
       " 'ovcharka': ['caucasian'],\n",
       " 'papillon': [],\n",
       " 'pekinese': [],\n",
       " 'pembroke': [],\n",
       " 'pinscher': ['miniature'],\n",
       " 'pitbull': [],\n",
       " 'pointer': ['german', 'germanlonghair'],\n",
       " 'pomeranian': [],\n",
       " 'poodle': ['medium', 'miniature', 'standard', 'toy'],\n",
       " 'pug': [],\n",
       " 'puggle': [],\n",
       " 'pyrenees': [],\n",
       " 'redbone': [],\n",
       " 'retriever': ['chesapeake', 'curly', 'flatcoated', 'golden'],\n",
       " 'ridgeback': ['rhodesian'],\n",
       " 'rottweiler': [],\n",
       " 'saluki': [],\n",
       " 'samoyed': [],\n",
       " 'schipperke': [],\n",
       " 'schnauzer': ['giant', 'miniature'],\n",
       " 'segugio': ['italian'],\n",
       " 'setter': ['english', 'gordon', 'irish'],\n",
       " 'sharpei': [],\n",
       " 'sheepdog': ['english', 'shetland'],\n",
       " 'shiba': [],\n",
       " 'shihtzu': [],\n",
       " 'spaniel': ['blenheim',\n",
       "  'brittany',\n",
       "  'cocker',\n",
       "  'irish',\n",
       "  'japanese',\n",
       "  'sussex',\n",
       "  'welsh'],\n",
       " 'spitz': ['japanese'],\n",
       " 'springer': ['english'],\n",
       " 'stbernard': [],\n",
       " 'terrier': ['american',\n",
       "  'australian',\n",
       "  'bedlington',\n",
       "  'border',\n",
       "  'cairn',\n",
       "  'dandie',\n",
       "  'fox',\n",
       "  'irish',\n",
       "  'kerryblue',\n",
       "  'lakeland',\n",
       "  'norfolk',\n",
       "  'norwich',\n",
       "  'patterdale',\n",
       "  'russell',\n",
       "  'scottish',\n",
       "  'sealyham',\n",
       "  'silky',\n",
       "  'tibetan',\n",
       "  'toy',\n",
       "  'welsh',\n",
       "  'westhighland',\n",
       "  'wheaten',\n",
       "  'yorkshire'],\n",
       " 'tervuren': [],\n",
       " 'vizsla': [],\n",
       " 'waterdog': ['spanish'],\n",
       " 'weimaraner': [],\n",
       " 'whippet': [],\n",
       " 'wolfhound': ['irish']}"
      ]
     },
     "execution_count": 30,
     "metadata": {},
     "output_type": "execute_result"
    }
   ],
   "source": [
    "# by sending a request to a different URL / endpoint, we can get different data back\n",
    "# let's get a list of all the breeds available through Dog API\n",
    "\n",
    "endpoint = 'https://dog.ceo/api/breeds/list/all'\n",
    "\n",
    "breeds = requests.get(endpoint)\n",
    "\n",
    "breeds = breeds.json()['message']\n",
    "\n",
    "breeds"
   ]
  },
  {
   "cell_type": "code",
   "execution_count": 76,
   "metadata": {},
   "outputs": [
    {
     "name": "stdout",
     "output_type": "stream",
     "text": [
      "appenzeller:\n"
     ]
    },
    {
     "data": {
      "text/html": [
       "<img src=\"https://images.dog.ceo/breeds/appenzeller/n02107908_7259.jpg\"/>"
      ],
      "text/plain": [
       "<IPython.core.display.Image object>"
      ]
     },
     "metadata": {},
     "output_type": "display_data"
    }
   ],
   "source": [
    "# we can loop through this now with a new endpoint we construct each time, to return a random image from each breed\n",
    "# lets limit ourselves to just a random breed from the list to save time!\n",
    "\n",
    "import random\n",
    "\n",
    "# change k to another number to see more dogs at once!\n",
    "random_breeds = random.choices(list(breeds.keys()), k = 1)\n",
    "\n",
    "for breed in random_breeds:\n",
    "    endpoint = f'https://dog.ceo/api/breed/{breed}/images/random'\n",
    "\n",
    "    response = requests.get(endpoint)\n",
    "    json = response.json()\n",
    "    image_url = json['message']\n",
    "\n",
    "    print(breed + ':')\n",
    "    display(Image(url = image_url))"
   ]
  },
  {
   "attachments": {},
   "cell_type": "markdown",
   "metadata": {},
   "source": [
    "### Queries\n",
    "\n",
    "We can also interact with our APIs using queries that we add on to the end of our URL endpoints, usually be adding a ? and then our query. To see how this works, we can use `params` with our **GET** request to query the Agify API that guesses a person's age based solely on their name: [https://agify.io/](https://agify.io/)"
   ]
  },
  {
   "cell_type": "code",
   "execution_count": 13,
   "metadata": {},
   "outputs": [],
   "source": [
    "# setup our endpoint URL as before\n",
    "\n",
    "endpoint = 'https://api.agify.io'\n",
    "\n",
    "# we can then make a request to this endpoint and use the 'params' argument to submit a name\n",
    "\n",
    "response = requests.get(endpoint, params = {'name': 'James'})"
   ]
  },
  {
   "cell_type": "code",
   "execution_count": null,
   "metadata": {},
   "outputs": [],
   "source": [
    "# PRACTISE: How can you view whether this request was successful or not?"
   ]
  },
  {
   "cell_type": "code",
   "execution_count": null,
   "metadata": {},
   "outputs": [],
   "source": [
    "# PRACTISE: Look at the response to find the predicted age for this request"
   ]
  },
  {
   "cell_type": "code",
   "execution_count": 14,
   "metadata": {},
   "outputs": [],
   "source": [
    "# we can provide multiple queries at once if the API supports it\n",
    "\n",
    "queries = {'name': 'James Adams', 'country_id': 'GB'}\n",
    "\n",
    "response = requests.get(endpoint, params = queries)"
   ]
  },
  {
   "cell_type": "code",
   "execution_count": null,
   "metadata": {},
   "outputs": [],
   "source": [
    "# PRACTISE: Try look at the Agify API page to see what other queries you could add, and what difference they make to your results"
   ]
  },
  {
   "cell_type": "code",
   "execution_count": 15,
   "metadata": {},
   "outputs": [
    {
     "name": "stdout",
     "output_type": "stream",
     "text": [
      "https://api.agify.io/?name=James+Adams&country_id=GB\n"
     ]
    }
   ],
   "source": [
    "# as part of our response object, we can see the entire URL query that was sent to our endpoint with .request.url\n",
    "\n",
    "print(response.request.url)\n",
    "\n",
    "# notice how our queries have been added on to our endpoint URL after a '?', and separated by '&'. We could have coded these by hand into our endpoint,\n",
    "# but requests makes it easier and handles the URL encoding for us - otherwise we'd have to manually replace things like spaces with %20%!"
   ]
  },
  {
   "attachments": {},
   "cell_type": "markdown",
   "metadata": {},
   "source": [
    "### POST\n",
    "\n",
    "Unlike **GET**, we usually interact with **POST** by actually sending content in the *body* of our request, rather than by adding things on to the end of our URL. This can be done using the `data` argument to `requests.post()`, which can take data in a variety of formats but most often a Python dictionary."
   ]
  },
  {
   "cell_type": "code",
   "execution_count": 7,
   "metadata": {},
   "outputs": [
    {
     "data": {
      "text/plain": [
       "<Response [200]>"
      ]
     },
     "execution_count": 7,
     "metadata": {},
     "output_type": "execute_result"
    }
   ],
   "source": [
    "# httpbin is a useful service that just echoes back any REST query you send to it, allowing you to test your queries\n",
    "\n",
    "requests.post('https://httpbin.org/post', data = {'key': 'value'})"
   ]
  },
  {
   "attachments": {},
   "cell_type": "markdown",
   "metadata": {},
   "source": [
    "Commonly, the data we send is in JSON format, so that the server on the other end can read and interpret the request body easily. This is so common that, once again, Requests has it built in using the `json` argument in place of `data`. This can still accept a dictionary, but converts it into a JSON file to send to the URL endpoint for the server to use."
   ]
  },
  {
   "cell_type": "code",
   "execution_count": 8,
   "metadata": {},
   "outputs": [
    {
     "data": {
      "text/plain": [
       "'{\"key\": \"value\"}'"
      ]
     },
     "execution_count": 8,
     "metadata": {},
     "output_type": "execute_result"
    }
   ],
   "source": [
    "response = requests.post('https://httpbin.org/post', json = {'key': 'value'})\n",
    "\n",
    "json_response = response.json()\n",
    "\n",
    "json_response['data']"
   ]
  },
  {
   "cell_type": "markdown",
   "metadata": {},
   "source": [
    "You can send other types of data with Requests, such as files if you wanted to upload something to a server. Files need to be read into Python as raw binary data but then can be sent with the `files` argument. If we use the httpbin service to see how an uploaded file is represented, we can see that the file is converted into a very long string of text that encodes the actual file info."
   ]
  },
  {
   "cell_type": "code",
   "execution_count": 12,
   "metadata": {},
   "outputs": [
    {
     "data": {
      "text/plain": [
       "'{\\n  \"args\": {}, \\n  \"data\": \"\", \\n  \"files\": {\\n    \"file\": \"data:application/octet-stream;base64,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\"\\n  }, \\n  \"form\": {}, \\n  \"headers\": {\\n    \"Accept\": \"*/*\", \\n    \"Accept-Encoding\": \"gzip, deflate\", \\n    \"Content-Length\": \"24072\", \\n    \"Content-Type\": \"multipart/form-data; boundary=0f6d9c500ed99490b0437fe94f0f67f5\", \\n    \"Host\": \"httpbin.org\", \\n    \"User-Agent\": \"python-requests/2.30.0\", \\n    \"X-Amzn-Trace-Id\": \"Root=1-64ae94e4-56c29ed81459fd7e4c095324\"\\n  }, \\n  \"json\": null, \\n  \"origin\": \"81.105.122.225\", \\n  \"url\": \"https://httpbin.org/post\"\\n}\\n'"
      ]
     },
     "execution_count": 12,
     "metadata": {},
     "output_type": "execute_result"
    }
   ],
   "source": [
    "endpoint = 'https://httpbin.org/post'\n",
    "\n",
    "files = {'file': open('mv-logo.png', 'rb')}\n",
    "\n",
    "response = requests.post(endpoint, files = files)\n",
    "response.text"
   ]
  },
  {
   "cell_type": "markdown",
   "metadata": {},
   "source": [
    "We can also practise uploading things with **POST** using the [Pastebin API](https://pastebin.com/doc_api), to upload some text for us to share on the web. Before we do that though, we need to talk about authentication and APIs."
   ]
  },
  {
   "attachments": {},
   "cell_type": "markdown",
   "metadata": {},
   "source": [
    "#### Authentication\n",
    "\n",
    "Authentication can be a complicated topic in APIs. There are numerous ways you can authenticate yourself with a service that requires you to be logged in, from simply sending your username and password in a header (not recommended!) to setting up authorisation with services like OAuth (like Google). These vary from API service to service, and you will need to determine how the API wants you to provide your credentials. See [https://realpython.com/python-requests/#authentication](https://realpython.com/python-requests/#authentication) for some more info on some of these options.\n",
    "\n",
    "One common method is to create API keys, or personal access tokens, to identify you as a user. These can be managed and, if need be, revoked without affecting your main login credentials, creating a more secure way to manage authorising yourself to an API."
   ]
  },
  {
   "cell_type": "markdown",
   "metadata": {},
   "source": [
    "### Getting a Pastebin API key"
   ]
  },
  {
   "cell_type": "markdown",
   "metadata": {},
   "source": [
    "To sign up with Pastebin, head to: [https://pastebin.com/signup](https://pastebin.com/signup). Register for an account using any method you prefer.\n",
    "\n",
    "Once logged in, head back to the API pages at [https://pastebin.com/doc_api](https://pastebin.com/doc_api) and you should see your API key near the top under the heading 'Your Unique Developer API Key'. Copy and paste this into the variable below!"
   ]
  },
  {
   "cell_type": "code",
   "execution_count": 2,
   "metadata": {},
   "outputs": [],
   "source": [
    "PASTEBIN_API = 'Your API key here'"
   ]
  },
  {
   "cell_type": "markdown",
   "metadata": {},
   "source": [
    "### Posting to Pastebin"
   ]
  },
  {
   "cell_type": "markdown",
   "metadata": {},
   "source": [
    "Now we can construct a **POST** request to Pastebin to upload some text, and use our API key in a data field named `api_dev_key` to authenticate ourselves. Sometimes you will send your API key in `headers` instead, but for Pastebin, we just include it as part of the body of our request. Always read the API documentation to see how they want you to structure your requests!"
   ]
  },
  {
   "cell_type": "code",
   "execution_count": 3,
   "metadata": {},
   "outputs": [],
   "source": [
    "endpoint = 'https://pastebin.com/api/api_post.php'\n",
    "\n",
    "data = {'api_dev_key': PASTEBIN_API,\n",
    "        'api_option': 'paste', # indicates we want to create a new pastebin entry\n",
    "        'api_paste_code': 'Hello! This is using the pastebin API to upload this text.'} # the actual text we want to upload\n",
    "\n",
    "response = requests.post(endpoint, data = data)"
   ]
  },
  {
   "cell_type": "code",
   "execution_count": 4,
   "metadata": {},
   "outputs": [
    {
     "data": {
      "text/plain": [
       "200"
      ]
     },
     "execution_count": 4,
     "metadata": {},
     "output_type": "execute_result"
    }
   ],
   "source": [
    "response.status_code"
   ]
  },
  {
   "cell_type": "markdown",
   "metadata": {},
   "source": [
    "The response content is simply a link to our uploaded new text on Pastebin!"
   ]
  },
  {
   "cell_type": "code",
   "execution_count": 6,
   "metadata": {},
   "outputs": [
    {
     "data": {
      "text/plain": [
       "'https://pastebin.com/csLWE47j'"
      ]
     },
     "execution_count": 6,
     "metadata": {},
     "output_type": "execute_result"
    }
   ],
   "source": [
    "response.text"
   ]
  },
  {
   "cell_type": "markdown",
   "metadata": {},
   "source": [
    "### API packages in Python\n",
    "\n",
    "A lot of APIs, if they are popular enough, will already have a Python package available that will help you interact with them. Under the hood they are really just doing exactly the same thing we've been doing with Requests, but usually bundled up nicely to make it easier to work with an API. For example,  the [Dog API](https://pypi.org/project/pydogceo/) and [Agify](https://pypi.org/project/agify/) services we used earlier both have Python packages!\n",
    "\n",
    "It's worth looking for a package that interacts with the API you are interested in using, as they often take a lot of the headaches out of things like authentication, and retrieving data in a useable format. But it's still useful to be able to use Requests, to understand what these packages are doing under the hood, and to make custom API requests for yourself if you need more than a package provides."
   ]
  }
 ],
 "metadata": {
  "kernelspec": {
   "display_name": "Python 3",
   "language": "python",
   "name": "python3"
  },
  "language_info": {
   "codemirror_mode": {
    "name": "ipython",
    "version": 3
   },
   "file_extension": ".py",
   "mimetype": "text/x-python",
   "name": "python",
   "nbconvert_exporter": "python",
   "pygments_lexer": "ipython3",
   "version": "3.11.0"
  },
  "orig_nbformat": 4
 },
 "nbformat": 4,
 "nbformat_minor": 2
}
