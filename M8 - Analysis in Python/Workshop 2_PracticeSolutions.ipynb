{
 "cells": [
  {
   "cell_type": "markdown",
   "id": "06f1a68c",
   "metadata": {},
   "source": [
    "## Practice questions (visualisations)"
   ]
  },
  {
   "cell_type": "code",
   "execution_count": null,
   "id": "7f01d582",
   "metadata": {},
   "outputs": [],
   "source": [
    "#1: Produce a visualization that compares the average daily views for each vlog\n",
    "\n",
    "# feast[feast['category'] == 'Vlog'].groupby('video_id').mean().plot(kind = 'bar', y = 'views_change', figsize = (10, 5)); # This is a single line solution\n",
    "vlogs = feast[feast['category'] == 'Vlog'].groupby('video_id').mean()\n",
    "fig, ax = plt.subplots(figsize = (10, 5))\n",
    "ax.bar(vlogs.index, vlogs.views_change)\n",
    "ax.set_xlabel('Video ID')\n",
    "ax.set_ylabel('Average daily views')\n",
    "ax.set_title('Average daily views for each vlog');\n",
    "plt.show()"
   ]
  },
  {
   "cell_type": "code",
   "execution_count": null,
   "id": "c5fe206f",
   "metadata": {},
   "outputs": [],
   "source": [
    "#2: Produce a visualization that compares the minimum number of daily views for each category of video\n",
    "\n",
    "# feast.groupby('category').min().plot(kind = 'bar', y = 'views_change', figsize = (10, 5)); # This is a single line solution\n",
    "\n",
    "min_views_per_category = feast.groupby('category').min()\n",
    "fig, ax = plt.subplots(figsize = (10, 5))\n",
    "ax.bar(min_views_per_category.index, min_views_per_category.views_change)\n",
    "ax.set_xlabel('Category')\n",
    "ax.set_ylabel('Views')\n",
    "ax.set_title('Minimum daily views for each category of video');\n",
    "plt.show()"
   ]
  },
  {
   "cell_type": "code",
   "execution_count": null,
   "id": "a6b185da",
   "metadata": {},
   "outputs": [],
   "source": [
    "#3: Produce a visualization that compares the trends in views for each category of video\n",
    "cat_df=feast.groupby(['category','days_since_release'])[['views_change']].sum()\n",
    "cat_df.head()"
   ]
  },
  {
   "cell_type": "code",
   "execution_count": null,
   "id": "1669bf46",
   "metadata": {},
   "outputs": [],
   "source": [
    "fig,ax = plt.subplots(figsize=(12,8))\n",
    "for category in feast.category.unique():\n",
    "    cat_df = (  feast.groupby(['category','days_since_release'])\n",
    "                .sum()\n",
    "                .loc[category] )\n",
    "    ax.plot(cat_df.index, cat_df.views_change, label=category);\n",
    "ax.set_xlabel('days since release')\n",
    "ax.set_ylabel('total daily views')\n",
    "ax.legend()\n",
    "plt.show()"
   ]
  },
  {
   "cell_type": "code",
   "execution_count": null,
   "id": "628f9b0f",
   "metadata": {},
   "outputs": [],
   "source": [
    "#4: Produce a visualization that for videos older than 7 days, compares the age and the daily views\n",
    "vids_older_than_7_days = feast[feast.days_since_release > 7]\n",
    "vids_older_than_7_days_views = vids_older_than_7_days.groupby('days_since_release')[['views_change']].mean()\n",
    "plt.plot(vids_older_than_7_days_views.index, vids_older_than_7_days_views.views_change);\n",
    "plt.xlabel('Days since release')\n",
    "plt.ylabel('Average daily views');"
   ]
  },
  {
   "cell_type": "code",
   "execution_count": null,
   "id": "6bb39210",
   "metadata": {},
   "outputs": [],
   "source": [
    "# Split it into categories\n",
    "vids_older_than_7_days = feast[feast.days_since_release > 7]\n",
    "for category in vids_older_than_7_days.category.unique():\n",
    "    cat_df = (  vids_older_than_7_days.groupby(['category','days_since_release'])\n",
    "                .mean()\n",
    "                .loc[category] )\n",
    "    plt.plot(cat_df.index, cat_df.views_change, label=category);\n",
    "plt.xlabel('days since release')\n",
    "plt.ylabel('average daily views')\n",
    "plt.legend()\n",
    "plt.show()"
   ]
  },
  {
   "cell_type": "code",
   "execution_count": null,
   "id": "89ef896c",
   "metadata": {},
   "outputs": [],
   "source": [
    "#4: Produce a visualization that for videos older than 7 days, compares the age and the daily views\n",
    "fig, ax = plt.subplots(figsize=(12,8))\n",
    "older_than_7 = feast[feast.days_since_release > 7]\n",
    "for cat in older_than_7.category.unique():\n",
    "    filtered = older_than_7[older_than_7.category == cat]\n",
    "    ax.plot(filtered.days_since_release, filtered.views_change, '.', label=cat)\n",
    "ax.set_xlabel('days since')\n",
    "ax.set_ylabel('average daily views')\n",
    "ax.legend()\n",
    "plt.show()"
   ]
  },
  {
   "cell_type": "code",
   "execution_count": null,
   "id": "c185da57",
   "metadata": {},
   "outputs": [],
   "source": [
    "#4 stretch. Investigate how to plot a trend line on the previous visualization\n",
    "import numpy as np\n",
    "\n",
    "coefficients = np.polyfit(older_than_7.days_since_release, older_than_7.views_change, deg = 1) # By setting deg = 1, we are fitting a straight line\n",
    "# We could also set deg = 2 to fit a quadratic function\n",
    "polynomial = np.poly1d(coefficients)\n",
    "\n",
    "fig,ax = plt.subplots(figsize=(12,8))\n",
    "older_than_7 = feast[feast.days_since_release>7]\n",
    "ax.plot(older_than_7.days_since_release, older_than_7.views_change, '.')\n",
    "ax.plot(sorted(older_than_7.days_since_release), polynomial(sorted(older_than_7.days_since_release)), label='trend line')\n",
    "ax.set_xlabel('age of video')\n",
    "ax.set_ylabel('daily views')\n",
    "ax.legend()\n",
    "plt.show()"
   ]
  }
 ],
 "metadata": {
  "kernelspec": {
   "display_name": "Python 3 (ipykernel)",
   "language": "python",
   "name": "python3"
  },
  "language_info": {
   "codemirror_mode": {
    "name": "ipython",
    "version": 3
   },
   "file_extension": ".py",
   "mimetype": "text/x-python",
   "name": "python",
   "nbconvert_exporter": "python",
   "pygments_lexer": "ipython3",
   "version": "3.9.12"
  }
 },
 "nbformat": 4,
 "nbformat_minor": 5
}
