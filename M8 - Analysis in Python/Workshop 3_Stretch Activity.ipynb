{
 "cells": [
  {
   "cell_type": "code",
   "execution_count": null,
   "metadata": {},
   "outputs": [],
   "source": [
    "import pandas as pd\n",
    "import matplotlib.pyplot as plt\n",
    "import numpy as np\n",
    "\n",
    "plt.style.use('modern-lux.mplstyle')"
   ]
  },
  {
   "cell_type": "code",
   "execution_count": null,
   "metadata": {},
   "outputs": [],
   "source": [
    "feast = pd.read_csv('Data/mr_feast_views.csv')"
   ]
  },
  {
   "cell_type": "code",
   "execution_count": null,
   "metadata": {},
   "outputs": [],
   "source": [
    "feast = feast.drop_duplicates().drop('License', axis = 1).reset_index(drop = True)"
   ]
  },
  {
   "cell_type": "markdown",
   "metadata": {},
   "source": [
    "Build a visualization that compares the distributions of max views of each video for each category"
   ]
  },
  {
   "cell_type": "code",
   "execution_count": null,
   "metadata": {},
   "outputs": [],
   "source": [
    "# create a subset of the data that is just the maximum for each vid\n",
    "\n",
    "vids = feast.groupby('video_id').max()\n",
    "vids.head()"
   ]
  },
  {
   "cell_type": "code",
   "execution_count": null,
   "metadata": {},
   "outputs": [],
   "source": [
    "# manual version\n",
    "fig, ax = plt.subplots()\n",
    "\n",
    "vids[vids.category == 'Advert']['views'].plot(kind = 'hist', bins = 8, ax = ax);\n",
    "# vids[vids.category == 'Reaction']['views'].plot(kind = 'hist', bins = 8, label = cat, ax = ax);\n",
    "# vids[vids.category == 'Vlog']['views'].plot(kind = 'hist', bins = 8, label = cat, ax = ax);\n",
    "# vids[vids.category == 'Challenge']['views'].plot(kind = 'hist', bins = 8, label = cat, ax = ax);"
   ]
  },
  {
   "cell_type": "code",
   "execution_count": null,
   "metadata": {},
   "outputs": [],
   "source": [
    "# manual version on one fig\n",
    "fig, axs = plt.subplots(nrows = 2, ncols = 2)\n",
    "\n",
    "vids[vids.category == 'Reaction']['views'].plot(kind = 'hist', bins = 8, ax = axs[0,0])\n",
    "axs[0,0].set_title('Reaction')\n",
    "vids[vids.category == 'Advert']['views'].plot(kind = 'hist', bins = 8, ax = axs[0,1])\n",
    "axs[0,1].set_title('Advert')\n",
    "vids[vids.category == 'Challenge']['views'].plot(kind = 'hist', bins = 8, ax = axs[1,0])\n",
    "axs[1,0].set_title('Challenge')\n",
    "vids[vids.category == 'Vlog']['views'].plot(kind = 'hist', bins = 8, ax = axs[1,1])\n",
    "axs[1,1].set_title('Vlog');"
   ]
  },
  {
   "cell_type": "code",
   "execution_count": 56,
   "metadata": {},
   "outputs": [
    {
     "name": "stdout",
     "output_type": "stream",
     "text": [
      "0, Advert\n",
      "1, Reaction\n",
      "2, Challenge\n",
      "3, Vlog\n"
     ]
    }
   ],
   "source": [
    "for index, cat in enumerate(vids.category.unique()):\n",
    "    print(f'{index}, {cat}')"
   ]
  },
  {
   "cell_type": "code",
   "execution_count": null,
   "metadata": {},
   "outputs": [],
   "source": [
    "# looped version on one fig\n",
    "\n",
    "import math\n",
    "\n",
    "# get number of categories\n",
    "no_of_cats = len(vids.category.unique())\n",
    "\n",
    "# create fig\n",
    "fig, axs = plt.subplots(nrows = math.ceil(no_of_cats / 2), ncols = 2)\n",
    "\n",
    "# starting row\n",
    "row = 0\n",
    "\n",
    "for index, cat in enumerate(vids.category.unique()):\n",
    "\n",
    "    # calculate column on whether index/plot number is odd (col 0) or even (col 1) using modulo\n",
    "    col = 1 if index % 2 == 0 else 0\n",
    "\n",
    "    # create plot for category on appropriate ax and set title\n",
    "    vids[vids.category == cat]['views'].plot(kind = 'hist', bins = 8, ax = axs[row, col])\n",
    "    axs[row, col].set_title(cat)\n",
    "\n",
    "    # increase row number if plotting to second column using same logic as above, else remain on row\n",
    "    row = row + 1 if index % 2 else row\n"
   ]
  },
  {
   "cell_type": "code",
   "execution_count": null,
   "metadata": {},
   "outputs": [],
   "source": [
    "# looped version on one ax\n",
    "\n",
    "fig, ax = plt.subplots()\n",
    "for cat in vids.category.unique():\n",
    "    vids[vids.category == cat]['views'].plot(kind = 'hist', bins = 8, label = cat, ax = ax)\n",
    "    ax.legend()\n",
    "\n",
    "ax.ticklabel_format(style = 'plain')\n",
    "ax.set_xlabel(\"Views\");"
   ]
  },
  {
   "cell_type": "markdown",
   "metadata": {},
   "source": [
    "For each video, apply a label ‘greater than 100000’ or ‘less than 100000’ depending on the total daily views."
   ]
  },
  {
   "cell_type": "code",
   "execution_count": null,
   "metadata": {},
   "outputs": [],
   "source": [
    "feast['label'] = feast.views_change.apply(lambda x: 'Over 10k' if x > 100000 else 'Under 10k')"
   ]
  },
  {
   "cell_type": "markdown",
   "metadata": {},
   "source": [
    "Build a visualization that compares for each category how many videos fall into the two labels you just made.}"
   ]
  },
  {
   "cell_type": "code",
   "execution_count": null,
   "metadata": {},
   "outputs": [],
   "source": [
    "fig,ax = plt.subplots()\n",
    "feast.groupby(['category','label']).count()['views'].plot(kind = 'barh', color = ['#336699', '#d2aa87'], ax = ax)\n",
    "\n",
    "ax.set_ylabel(\"Category\")\n",
    "ax.set_xlabel(\"No. of Videos\");"
   ]
  },
  {
   "cell_type": "markdown",
   "metadata": {},
   "source": [
    "Build a visualization that compares the relationship between maximum daily views and minimum daily views for each video."
   ]
  },
  {
   "cell_type": "code",
   "execution_count": null,
   "metadata": {},
   "outputs": [],
   "source": [
    "vids_min = feast.groupby('video_id').min()"
   ]
  },
  {
   "cell_type": "code",
   "execution_count": null,
   "metadata": {},
   "outputs": [],
   "source": [
    "fig , ax = plt.subplots()\n",
    "ax.plot(vids.views_change, vids_min.views_change,'.')\n",
    "ax.set_xlabel('Max Views')\n",
    "ax.set_ylabel('Min Views')\n",
    "ax.set_title('Max vs min views per video');"
   ]
  },
  {
   "cell_type": "code",
   "execution_count": null,
   "metadata": {},
   "outputs": [],
   "source": [
    "x = vids.views_change\n",
    "y = vids_min.views_change\n",
    "a, b = np.polyfit(x, y, 1)\n",
    "\n",
    "fig , ax = plt.subplots()\n",
    "\n",
    "ax.plot(x, y, '.')\n",
    "\n",
    "ax.plot(x, a * x + b, color = '#a6c3c1')\n",
    "\n",
    "ax.set_xlabel('Max Views')\n",
    "ax.set_ylabel('Min Views')\n",
    "ax.set_title('Max vs min views per video');"
   ]
  }
 ],
 "metadata": {
  "kernelspec": {
   "display_name": "Python 3",
   "language": "python",
   "name": "python3"
  },
  "language_info": {
   "codemirror_mode": {
    "name": "ipython",
    "version": 3
   },
   "file_extension": ".py",
   "mimetype": "text/x-python",
   "name": "python",
   "nbconvert_exporter": "python",
   "pygments_lexer": "ipython3",
   "version": "3.11.0"
  }
 },
 "nbformat": 4,
 "nbformat_minor": 4
}
