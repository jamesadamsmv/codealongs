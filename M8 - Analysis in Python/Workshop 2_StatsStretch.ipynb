{
 "cells": [
  {
   "cell_type": "code",
   "execution_count": 59,
   "metadata": {},
   "outputs": [
    {
     "data": {
      "text/html": [
       "<div>\n",
       "<style scoped>\n",
       "    .dataframe tbody tr th:only-of-type {\n",
       "        vertical-align: middle;\n",
       "    }\n",
       "\n",
       "    .dataframe tbody tr th {\n",
       "        vertical-align: top;\n",
       "    }\n",
       "\n",
       "    .dataframe thead th {\n",
       "        text-align: right;\n",
       "    }\n",
       "</style>\n",
       "<table border=\"1\" class=\"dataframe\">\n",
       "  <thead>\n",
       "    <tr style=\"text-align: right;\">\n",
       "      <th></th>\n",
       "      <th>video_id</th>\n",
       "      <th>category</th>\n",
       "      <th>views</th>\n",
       "      <th>days_since_release</th>\n",
       "      <th>License</th>\n",
       "      <th>views_change</th>\n",
       "    </tr>\n",
       "  </thead>\n",
       "  <tbody>\n",
       "    <tr>\n",
       "      <th>0</th>\n",
       "      <td>VG916</td>\n",
       "      <td>Reaction</td>\n",
       "      <td>2108373.0</td>\n",
       "      <td>27</td>\n",
       "      <td>NaN</td>\n",
       "      <td>2108373.0</td>\n",
       "    </tr>\n",
       "    <tr>\n",
       "      <th>2</th>\n",
       "      <td>VG916</td>\n",
       "      <td>Reaction</td>\n",
       "      <td>2543481.0</td>\n",
       "      <td>28</td>\n",
       "      <td>NaN</td>\n",
       "      <td>435108.0</td>\n",
       "    </tr>\n",
       "    <tr>\n",
       "      <th>3</th>\n",
       "      <td>VG916</td>\n",
       "      <td>Reaction</td>\n",
       "      <td>3084828.0</td>\n",
       "      <td>29</td>\n",
       "      <td>NaN</td>\n",
       "      <td>541347.0</td>\n",
       "    </tr>\n",
       "    <tr>\n",
       "      <th>4</th>\n",
       "      <td>VG916</td>\n",
       "      <td>Reaction</td>\n",
       "      <td>3784331.0</td>\n",
       "      <td>30</td>\n",
       "      <td>NaN</td>\n",
       "      <td>699503.0</td>\n",
       "    </tr>\n",
       "    <tr>\n",
       "      <th>5</th>\n",
       "      <td>VG916</td>\n",
       "      <td>Reaction</td>\n",
       "      <td>3850877.0</td>\n",
       "      <td>31</td>\n",
       "      <td>NaN</td>\n",
       "      <td>66546.0</td>\n",
       "    </tr>\n",
       "  </tbody>\n",
       "</table>\n",
       "</div>"
      ],
      "text/plain": [
       "  video_id  category      views  days_since_release  License  views_change\n",
       "0    VG916  Reaction  2108373.0                  27      NaN     2108373.0\n",
       "2    VG916  Reaction  2543481.0                  28      NaN      435108.0\n",
       "3    VG916  Reaction  3084828.0                  29      NaN      541347.0\n",
       "4    VG916  Reaction  3784331.0                  30      NaN      699503.0\n",
       "5    VG916  Reaction  3850877.0                  31      NaN       66546.0"
      ]
     },
     "execution_count": 59,
     "metadata": {},
     "output_type": "execute_result"
    }
   ],
   "source": [
    "import pandas as pd\n",
    "import matplotlib.pyplot as plt\n",
    "\n",
    "# Load in the data\n",
    "\n",
    "feast=pd.read_csv('data/mr_feast_views.csv')\n",
    "\n",
    "feast.drop_duplicates(inplace = True)\n",
    "\n",
    "feast.head()"
   ]
  },
  {
   "attachments": {},
   "cell_type": "markdown",
   "metadata": {},
   "source": [
    "### Which category of video has the largest number of views?"
   ]
  },
  {
   "cell_type": "code",
   "execution_count": 60,
   "metadata": {},
   "outputs": [
    {
     "data": {
      "text/html": [
       "<div>\n",
       "<style scoped>\n",
       "    .dataframe tbody tr th:only-of-type {\n",
       "        vertical-align: middle;\n",
       "    }\n",
       "\n",
       "    .dataframe tbody tr th {\n",
       "        vertical-align: top;\n",
       "    }\n",
       "\n",
       "    .dataframe thead th {\n",
       "        text-align: right;\n",
       "    }\n",
       "</style>\n",
       "<table border=\"1\" class=\"dataframe\">\n",
       "  <thead>\n",
       "    <tr style=\"text-align: right;\">\n",
       "      <th></th>\n",
       "      <th>views</th>\n",
       "    </tr>\n",
       "    <tr>\n",
       "      <th>category</th>\n",
       "      <th></th>\n",
       "    </tr>\n",
       "  </thead>\n",
       "  <tbody>\n",
       "    <tr>\n",
       "      <th>Reaction</th>\n",
       "      <td>592624667.0</td>\n",
       "    </tr>\n",
       "    <tr>\n",
       "      <th>Challenge</th>\n",
       "      <td>237152538.0</td>\n",
       "    </tr>\n",
       "    <tr>\n",
       "      <th>Vlog</th>\n",
       "      <td>11368823.0</td>\n",
       "    </tr>\n",
       "    <tr>\n",
       "      <th>Advert</th>\n",
       "      <td>2011739.0</td>\n",
       "    </tr>\n",
       "  </tbody>\n",
       "</table>\n",
       "</div>"
      ],
      "text/plain": [
       "                 views\n",
       "category              \n",
       "Reaction   592624667.0\n",
       "Challenge  237152538.0\n",
       "Vlog        11368823.0\n",
       "Advert       2011739.0"
      ]
     },
     "execution_count": 60,
     "metadata": {},
     "output_type": "execute_result"
    }
   ],
   "source": [
    "feast.groupby('category').sum(numeric_only = True)[['views']].sort_values('views', ascending = False)\n",
    "\n",
    "# Group by category column, sum the numeric columns within each group/category,\n",
    "# filter to just the views column, and sort the values by descending"
   ]
  },
  {
   "attachments": {},
   "cell_type": "markdown",
   "metadata": {},
   "source": [
    "### For reaction videos, after how many days is the standard deviation on the daily views the lowest?"
   ]
  },
  {
   "cell_type": "code",
   "execution_count": 61,
   "metadata": {},
   "outputs": [
    {
     "data": {
      "text/plain": [
       "{36: 588530.8578639374,\n",
       " 35: 588964.6598387709,\n",
       " 34: 590943.20033652,\n",
       " 33: 594058.1367380078,\n",
       " 10: 595162.8892549222,\n",
       " 32: 597684.6829443887,\n",
       " 26: 600599.401650097,\n",
       " 31: 602287.9888019742,\n",
       " 27: 602927.0602651412,\n",
       " 19: 606494.9039780239,\n",
       " 28: 607298.2945570565,\n",
       " 24: 607852.6994870766,\n",
       " 9: 608271.4919110985,\n",
       " 25: 608529.8076096586,\n",
       " 30: 608797.2845457863,\n",
       " 29: 615005.668788216,\n",
       " 23: 616564.2265532737,\n",
       " 2: 618417.85230181,\n",
       " 11: 623872.3816410514,\n",
       " 17: 624078.0024071235,\n",
       " 18: 624233.8222802888,\n",
       " 22: 626757.2877872838,\n",
       " 12: 628676.6282896764,\n",
       " 8: 629529.3038439348,\n",
       " 20: 629922.5928074634,\n",
       " 21: 639360.07846594,\n",
       " 16: 647605.1238941216,\n",
       " 15: 653705.7711452085,\n",
       " 1: nan,\n",
       " 7: 660873.0466215248,\n",
       " 6: 664788.372549355,\n",
       " 14: 673664.306153794,\n",
       " 13: 690764.5719521757,\n",
       " 4: 711791.7078941425,\n",
       " 5: 717062.9773486297,\n",
       " 3: 818475.8521983,\n",
       " 0: nan}"
      ]
     },
     "execution_count": 61,
     "metadata": {},
     "output_type": "execute_result"
    }
   ],
   "source": [
    "# pull out the unique days_since_release values and store them in a list, so we have a list\n",
    "# of all the day values in the dataset\n",
    "days = list(feast.days_since_release.unique())\n",
    "\n",
    "# create an empty dictionary to store our standard deviation results in when we calculate them\n",
    "results = {}\n",
    "\n",
    "# loop through each day value in the days list\n",
    "for day in days:\n",
    "\n",
    "    # filter the data for day values less than our current loop, then calculate the standard deviation\n",
    "    data = feast[feast.days_since_release < day]['views_change'].std() \n",
    "    # store that value in the results dictionary, with the day value as key and std as value\n",
    "    results[day] = data\n",
    "\n",
    "# sort the results dictionary by the values to find the smallest std and the day it occurred\n",
    "dict(sorted(results.items(), key = lambda result: result[1]))\n",
    "\n",
    "# note that the answer can be 10 or 36 days depending on if duplicate rows\n",
    "# are dropped from the dataset before running this code!"
   ]
  },
  {
   "attachments": {},
   "cell_type": "markdown",
   "metadata": {},
   "source": [
    "### How many vlog videos have a maximum daily number of views, greater than the lowest viewed reaction video’s maximum daily number of views?"
   ]
  },
  {
   "cell_type": "code",
   "execution_count": 82,
   "metadata": {},
   "outputs": [
    {
     "data": {
      "text/plain": [
       "array(['OD453', 'MO720'], dtype=object)"
      ]
     },
     "execution_count": 82,
     "metadata": {},
     "output_type": "execute_result"
    }
   ],
   "source": [
    "# filter the data to just Vlog or Reaction videos\n",
    "\n",
    "vlogs = feast[feast.category == 'Vlog']\n",
    "reactions = feast[feast.category == 'Reaction']"
   ]
  },
  {
   "cell_type": "code",
   "execution_count": 76,
   "metadata": {},
   "outputs": [
    {
     "data": {
      "text/html": [
       "<div>\n",
       "<style scoped>\n",
       "    .dataframe tbody tr th:only-of-type {\n",
       "        vertical-align: middle;\n",
       "    }\n",
       "\n",
       "    .dataframe tbody tr th {\n",
       "        vertical-align: top;\n",
       "    }\n",
       "\n",
       "    .dataframe thead th {\n",
       "        text-align: right;\n",
       "    }\n",
       "</style>\n",
       "<table border=\"1\" class=\"dataframe\">\n",
       "  <thead>\n",
       "    <tr style=\"text-align: right;\">\n",
       "      <th></th>\n",
       "      <th>views_change</th>\n",
       "    </tr>\n",
       "    <tr>\n",
       "      <th>video_id</th>\n",
       "      <th></th>\n",
       "    </tr>\n",
       "  </thead>\n",
       "  <tbody>\n",
       "    <tr>\n",
       "      <th>JA888</th>\n",
       "      <td>2510174.0</td>\n",
       "    </tr>\n",
       "    <tr>\n",
       "      <th>MV637</th>\n",
       "      <td>2533161.0</td>\n",
       "    </tr>\n",
       "    <tr>\n",
       "      <th>PC922</th>\n",
       "      <td>2548806.0</td>\n",
       "    </tr>\n",
       "    <tr>\n",
       "      <th>GR303</th>\n",
       "      <td>2673275.0</td>\n",
       "    </tr>\n",
       "    <tr>\n",
       "      <th>CT573</th>\n",
       "      <td>2689623.0</td>\n",
       "    </tr>\n",
       "  </tbody>\n",
       "</table>\n",
       "</div>"
      ],
      "text/plain": [
       "          views_change\n",
       "video_id              \n",
       "JA888        2510174.0\n",
       "MV637        2533161.0\n",
       "PC922        2548806.0\n",
       "GR303        2673275.0\n",
       "CT573        2689623.0"
      ]
     },
     "execution_count": 76,
     "metadata": {},
     "output_type": "execute_result"
    }
   ],
   "source": [
    "# find the reaction video with the lowest total number of views regardless of days since upload\n",
    "\n",
    "reactions.groupby('video_id')[['views_change']].sum().sort_values('views_change').head()\n",
    "\n",
    "# video_id JA888"
   ]
  },
  {
   "cell_type": "code",
   "execution_count": 77,
   "metadata": {},
   "outputs": [],
   "source": [
    "# find MO720's maximum daily number of views\n",
    "\n",
    "ja888_max = vlogs[vlogs.video_id == 'JA888'].views_change.max()"
   ]
  },
  {
   "cell_type": "code",
   "execution_count": 85,
   "metadata": {},
   "outputs": [
    {
     "data": {
      "text/html": [
       "<div>\n",
       "<style scoped>\n",
       "    .dataframe tbody tr th:only-of-type {\n",
       "        vertical-align: middle;\n",
       "    }\n",
       "\n",
       "    .dataframe tbody tr th {\n",
       "        vertical-align: top;\n",
       "    }\n",
       "\n",
       "    .dataframe thead th {\n",
       "        text-align: right;\n",
       "    }\n",
       "</style>\n",
       "<table border=\"1\" class=\"dataframe\">\n",
       "  <thead>\n",
       "    <tr style=\"text-align: right;\">\n",
       "      <th></th>\n",
       "      <th>views_change</th>\n",
       "    </tr>\n",
       "    <tr>\n",
       "      <th>video_id</th>\n",
       "      <th></th>\n",
       "    </tr>\n",
       "  </thead>\n",
       "  <tbody>\n",
       "  </tbody>\n",
       "</table>\n",
       "</div>"
      ],
      "text/plain": [
       "Empty DataFrame\n",
       "Columns: [views_change]\n",
       "Index: []"
      ]
     },
     "execution_count": 85,
     "metadata": {},
     "output_type": "execute_result"
    }
   ],
   "source": [
    "# count number of vlogs with max daily views greater than ja888\n",
    "\n",
    "vlogs_maxs = vlogs.groupby('video_id')[['views_change']].max(numeric_only = True).copy()\n",
    "\n",
    "vlogs_maxs[vlogs_maxs.views_change > ja888_max]\n",
    "\n",
    "# None!\n"
   ]
  },
  {
   "attachments": {},
   "cell_type": "markdown",
   "metadata": {},
   "source": [
    "### What is the distribution skew of total views of videos that are older than 10 days?"
   ]
  },
  {
   "cell_type": "code",
   "execution_count": 96,
   "metadata": {},
   "outputs": [
    {
     "data": {
      "text/html": [
       "<div>\n",
       "<style scoped>\n",
       "    .dataframe tbody tr th:only-of-type {\n",
       "        vertical-align: middle;\n",
       "    }\n",
       "\n",
       "    .dataframe tbody tr th {\n",
       "        vertical-align: top;\n",
       "    }\n",
       "\n",
       "    .dataframe thead th {\n",
       "        text-align: right;\n",
       "    }\n",
       "</style>\n",
       "<table border=\"1\" class=\"dataframe\">\n",
       "  <thead>\n",
       "    <tr style=\"text-align: right;\">\n",
       "      <th></th>\n",
       "      <th>video_id</th>\n",
       "      <th>views</th>\n",
       "      <th>days_since_release</th>\n",
       "      <th>License</th>\n",
       "      <th>views_change</th>\n",
       "    </tr>\n",
       "  </thead>\n",
       "  <tbody>\n",
       "    <tr>\n",
       "      <th>0</th>\n",
       "      <td>AJ152</td>\n",
       "      <td>25603.0</td>\n",
       "      <td>29</td>\n",
       "      <td>NaN</td>\n",
       "      <td>23423.0</td>\n",
       "    </tr>\n",
       "    <tr>\n",
       "      <th>1</th>\n",
       "      <td>AK102</td>\n",
       "      <td>28266.0</td>\n",
       "      <td>19</td>\n",
       "      <td>NaN</td>\n",
       "      <td>26294.0</td>\n",
       "    </tr>\n",
       "    <tr>\n",
       "      <th>2</th>\n",
       "      <td>BB297</td>\n",
       "      <td>2801937.0</td>\n",
       "      <td>33</td>\n",
       "      <td>NaN</td>\n",
       "      <td>1427167.0</td>\n",
       "    </tr>\n",
       "    <tr>\n",
       "      <th>3</th>\n",
       "      <td>BB342</td>\n",
       "      <td>2844732.0</td>\n",
       "      <td>16</td>\n",
       "      <td>NaN</td>\n",
       "      <td>513978.0</td>\n",
       "    </tr>\n",
       "    <tr>\n",
       "      <th>4</th>\n",
       "      <td>BV474</td>\n",
       "      <td>3808133.0</td>\n",
       "      <td>21</td>\n",
       "      <td>NaN</td>\n",
       "      <td>1959543.0</td>\n",
       "    </tr>\n",
       "  </tbody>\n",
       "</table>\n",
       "</div>"
      ],
      "text/plain": [
       "  video_id      views  days_since_release  License  views_change\n",
       "0    AJ152    25603.0                  29      NaN       23423.0\n",
       "1    AK102    28266.0                  19      NaN       26294.0\n",
       "2    BB297  2801937.0                  33      NaN     1427167.0\n",
       "3    BB342  2844732.0                  16      NaN      513978.0\n",
       "4    BV474  3808133.0                  21      NaN     1959543.0"
      ]
     },
     "execution_count": 96,
     "metadata": {},
     "output_type": "execute_result"
    }
   ],
   "source": [
    "# filter for videos older than 10 days\n",
    "# and find their total views\n",
    "\n",
    "old_vids = feast[feast.days_since_release > 10].groupby('video_id').max('views').copy()\n",
    "old_vids.reset_index(inplace=True)\n",
    "old_vids.head()"
   ]
  },
  {
   "cell_type": "code",
   "execution_count": 104,
   "metadata": {},
   "outputs": [
    {
     "data": {
      "image/png": "[encoded data removed]",
      "text/plain": [
       "<Figure size 1200x800 with 1 Axes>"
      ]
     },
     "metadata": {},
     "output_type": "display_data"
    }
   ],
   "source": [
    "# plot\n",
    "\n",
    "fig, ax = plt.subplots(figsize = (12, 8))\n",
    "\n",
    "ax.hist(old_vids.views)\n",
    "ax.vlines(x=old_vids.views.mean(), ymin=0, ymax=10, color='b', label='mean')\n",
    "ax.vlines(x=old_vids.views.median(), ymin=0, ymax=10, color='r', label='median')\n",
    "ax.legend();\n",
    "\n",
    "# positive as median is higher than mean"
   ]
  },
  {
   "attachments": {},
   "cell_type": "markdown",
   "metadata": {},
   "source": [
    "### Mr Feast claims that 20% of challenge videos have greater daily views on day 20 than day 21, test his claim at the 5% level."
   ]
  },
  {
   "cell_type": "code",
   "execution_count": 110,
   "metadata": {},
   "outputs": [
    {
     "data": {
      "text/html": [
       "<div>\n",
       "<style scoped>\n",
       "    .dataframe tbody tr th:only-of-type {\n",
       "        vertical-align: middle;\n",
       "    }\n",
       "\n",
       "    .dataframe tbody tr th {\n",
       "        vertical-align: top;\n",
       "    }\n",
       "\n",
       "    .dataframe thead th {\n",
       "        text-align: right;\n",
       "    }\n",
       "</style>\n",
       "<table border=\"1\" class=\"dataframe\">\n",
       "  <thead>\n",
       "    <tr style=\"text-align: right;\">\n",
       "      <th></th>\n",
       "      <th>video_id</th>\n",
       "      <th>category</th>\n",
       "      <th>views</th>\n",
       "      <th>days_since_release</th>\n",
       "      <th>License</th>\n",
       "      <th>views_change</th>\n",
       "    </tr>\n",
       "  </thead>\n",
       "  <tbody>\n",
       "    <tr>\n",
       "      <th>67</th>\n",
       "      <td>HV246</td>\n",
       "      <td>Challenge</td>\n",
       "      <td>2946325.0</td>\n",
       "      <td>20</td>\n",
       "      <td>NaN</td>\n",
       "      <td>590523.0</td>\n",
       "    </tr>\n",
       "    <tr>\n",
       "      <th>68</th>\n",
       "      <td>HV246</td>\n",
       "      <td>Challenge</td>\n",
       "      <td>3822553.0</td>\n",
       "      <td>21</td>\n",
       "      <td>NaN</td>\n",
       "      <td>876228.0</td>\n",
       "    </tr>\n",
       "    <tr>\n",
       "      <th>88</th>\n",
       "      <td>ON360</td>\n",
       "      <td>Challenge</td>\n",
       "      <td>2762610.0</td>\n",
       "      <td>20</td>\n",
       "      <td>NaN</td>\n",
       "      <td>555145.0</td>\n",
       "    </tr>\n",
       "    <tr>\n",
       "      <th>89</th>\n",
       "      <td>ON360</td>\n",
       "      <td>Challenge</td>\n",
       "      <td>3532834.0</td>\n",
       "      <td>21</td>\n",
       "      <td>NaN</td>\n",
       "      <td>770224.0</td>\n",
       "    </tr>\n",
       "    <tr>\n",
       "      <th>94</th>\n",
       "      <td>EN250</td>\n",
       "      <td>Challenge</td>\n",
       "      <td>2093176.0</td>\n",
       "      <td>20</td>\n",
       "      <td>NaN</td>\n",
       "      <td>2093176.0</td>\n",
       "    </tr>\n",
       "  </tbody>\n",
       "</table>\n",
       "</div>"
      ],
      "text/plain": [
       "   video_id   category      views  days_since_release  License  views_change\n",
       "67    HV246  Challenge  2946325.0                  20      NaN      590523.0\n",
       "68    HV246  Challenge  3822553.0                  21      NaN      876228.0\n",
       "88    ON360  Challenge  2762610.0                  20      NaN      555145.0\n",
       "89    ON360  Challenge  3532834.0                  21      NaN      770224.0\n",
       "94    EN250  Challenge  2093176.0                  20      NaN     2093176.0"
      ]
     },
     "execution_count": 110,
     "metadata": {},
     "output_type": "execute_result"
    }
   ],
   "source": [
    "# filter for challenge videos from either day 20 or day 21\n",
    "\n",
    "challenges = feast[(feast.category == 'Challenge') & ((feast.days_since_release == 20) | (feast.days_since_release == 21))].copy()\n",
    "\n",
    "challenges.head()"
   ]
  },
  {
   "cell_type": "code",
   "execution_count": 113,
   "metadata": {},
   "outputs": [],
   "source": [
    "# pivot wide to see columns for days 20 and 21\n",
    "\n",
    "challenges_wide = pd.pivot(challenges, index = 'video_id', columns = 'days_since_release', values = 'views_change')\n",
    "\n",
    "# add new column that marks true/false if views at day 20 are greater than views at 21\n",
    "challenges_wide['greater_at_20'] = challenges_wide[20] > challenges_wide[21]"
   ]
  },
  {
   "cell_type": "code",
   "execution_count": 120,
   "metadata": {},
   "outputs": [
    {
     "data": {
      "text/plain": [
       "3"
      ]
     },
     "execution_count": 120,
     "metadata": {},
     "output_type": "execute_result"
    }
   ],
   "source": [
    "# count number of videos where statement is true\n",
    "challenges_wide.greater_at_20.sum()\n",
    "\n",
    "# 3 videos"
   ]
  },
  {
   "cell_type": "code",
   "execution_count": 124,
   "metadata": {},
   "outputs": [
    {
     "data": {
      "text/plain": [
       "5"
      ]
     },
     "execution_count": 124,
     "metadata": {},
     "output_type": "execute_result"
    }
   ],
   "source": [
    "# count total number of videos in our data set across both days\n",
    "len(challenges_wide)"
   ]
  },
  {
   "cell_type": "code",
   "execution_count": 128,
   "metadata": {},
   "outputs": [
    {
     "data": {
      "text/plain": [
       "BinomTestResult(k=3, n=5, alternative='greater', statistic=0.6, pvalue=0.057920000000000034)"
      ]
     },
     "execution_count": 128,
     "metadata": {},
     "output_type": "execute_result"
    }
   ],
   "source": [
    "# test our values in binomtest - 3 out of 5 videos in our dataset\n",
    "# have greater views, and we're testing for a probability of this claim\n",
    "# being true at 20%\n",
    "\n",
    "from scipy.stats import binomtest\n",
    "\n",
    "binomtest(3, 5, p = 0.2, alternative = 'greater')\n",
    "\n",
    "# with a p value of 0.057, this does not clear our  < 0.05 value criteria\n",
    "# and so we fail to reject the null hypothesis. We have not shown statistically that\n",
    "# 20% of Mr Feast's Challenge video have greater daily views at 20 days\n",
    "# than at 21 days."
   ]
  }
 ],
 "metadata": {
  "kernelspec": {
   "display_name": "Python 3",
   "language": "python",
   "name": "python3"
  },
  "language_info": {
   "codemirror_mode": {
    "name": "ipython",
    "version": 3
   },
   "file_extension": ".py",
   "mimetype": "text/x-python",
   "name": "python",
   "nbconvert_exporter": "python",
   "pygments_lexer": "ipython3",
   "version": "3.11.0"
  },
  "orig_nbformat": 4
 },
 "nbformat": 4,
 "nbformat_minor": 2
}
